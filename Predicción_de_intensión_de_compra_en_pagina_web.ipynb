{
  "nbformat": 4,
  "nbformat_minor": 0,
  "metadata": {
    "colab": {
      "name": "Predicción de intensión de compra en pagina web.ipynb",
      "provenance": [],
      "authorship_tag": "ABX9TyOkIOL5CTdmd/ewqK0A/oKi",
      "include_colab_link": true
    },
    "kernelspec": {
      "name": "python3",
      "display_name": "Python 3"
    }
  },
  "cells": [
    {
      "cell_type": "markdown",
      "metadata": {
        "id": "view-in-github",
        "colab_type": "text"
      },
      "source": [
        "<a href=\"https://colab.research.google.com/github/ANGELJSS/PREDICCI-N-DE-INTENSI-N-DE-COMPRA-EN-PAGINA-WEB/blob/main/Predicci%C3%B3n_de_intensi%C3%B3n_de_compra_en_pagina_web.ipynb\" target=\"_parent\"><img src=\"https://colab.research.google.com/assets/colab-badge.svg\" alt=\"Open In Colab\"/></a>"
      ]
    },
    {
      "cell_type": "code",
      "metadata": {
        "id": "37VloHCAt_j7"
      },
      "source": [
        ""
      ],
      "execution_count": null,
      "outputs": []
    },
    {
      "cell_type": "markdown",
      "metadata": {
        "id": "147JDeuquaCd"
      },
      "source": [
        "# **Predicción de intensión de compra en pagina web**"
      ]
    },
    {
      "cell_type": "code",
      "metadata": {
        "id": "4EM0aj9zudiq"
      },
      "source": [
        ""
      ],
      "execution_count": null,
      "outputs": []
    }
  ]
}